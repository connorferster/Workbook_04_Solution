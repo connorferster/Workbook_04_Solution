{
 "cells": [
  {
   "cell_type": "code",
   "execution_count": 129,
   "id": "6695b36a-4f60-44c5-9293-cf2a20aeab54",
   "metadata": {},
   "outputs": [],
   "source": [
    "from rich import inspect, print"
   ]
  },
  {
   "cell_type": "code",
   "execution_count": 130,
   "id": "3fa3ad75-8247-4c20-b99b-1d690af5a5cb",
   "metadata": {},
   "outputs": [],
   "source": [
    "import csv\n",
    "from sympy.physics.continuum_mechanics.beam import Beam\n",
    "from sympy import symbols"
   ]
  },
  {
   "cell_type": "markdown",
   "id": "94bbfe7b-a657-45ad-abfa-302473c0814a",
   "metadata": {
    "tags": []
   },
   "source": [
    "# 💡 Workbook 04"
   ]
  },
  {
   "cell_type": "code",
   "execution_count": 131,
   "id": "395bafcc-ac15-4817-9f4e-99d8fa2d0566",
   "metadata": {},
   "outputs": [],
   "source": [
    "file_name = \"beams.txt\"\n",
    "beam_id = 2"
   ]
  },
  {
   "cell_type": "markdown",
   "id": "63051c9a-70e0-48d5-b9ce-023d54ce7269",
   "metadata": {
    "jp-MarkdownHeadingCollapsed": true,
    "tags": []
   },
   "source": [
    "This week we are working with a slightly new file format, it looks like this:\n",
    "\n",
    "<pre>\n",
    "Length, [E, I]\n",
    "<b>P, pin support locations (comma separated)</b>\n",
    "<b>F, fixed support locations (comma separated)</b>\n",
    "Load Magnitude, Load Start, Load Order, [Load End]\n",
    "Load Magnitude, Load Start, Load Order, [Load End]\n",
    "\n",
    "Length, [E, I]\n",
    "<b>P, pin support locations (comma separated)</b>\n",
    "<b>F, fixed support locations (comma separated)</b>\n",
    "Load Magnitude, Load Start, Load Order, [Load End]\n",
    "Load Magnitude, Load Start, Load Order, [Load End]\n",
    "\n",
    "...etc.\n",
    "</pre>\n",
    "Here is an example of what the format looks like with real data:\n",
    "\n",
    "```\n",
    "168,3850,42\n",
    "P,0,168\n",
    "120,0,0\n",
    "240,0,0\n",
    "              # Note the blank line between beam data\n",
    "142,3850,42\n",
    "P,0,120\n",
    "F,0\n",
    "120,0,0\n",
    "240,0,0\n",
    "```\n",
    "\n",
    "Characteristics of the new file format include:\n",
    "* Multiple beams in one file\n",
    "* Beams can have either pin, fixed, or both kinds of supports\n",
    "* There is an empty space between different beams"
   ]
  },
  {
   "cell_type": "markdown",
   "id": "a4a2518d-ace5-4cb2-bb45-cdc9b1c77c87",
   "metadata": {},
   "source": [
    "# Part A\n",
    "\n",
    "Using the \"csv reader\" recipe, read in the file \"beams.txt\" into your accumulator.\n",
    "\n",
    "Print the contents of your accumulator to the notebook"
   ]
  },
  {
   "cell_type": "markdown",
   "id": "af2be1ec-26f7-475e-92a6-f3b95bc643c8",
   "metadata": {},
   "source": [
    "## Task A Response"
   ]
  },
  {
   "cell_type": "code",
   "execution_count": 132,
   "id": "acb3d266-e7e2-45f9-ab41-83086be45ea1",
   "metadata": {},
   "outputs": [
    {
     "data": {
      "text/html": [
       "<pre style=\"white-space:pre;overflow-x:auto;line-height:normal;font-family:Menlo,'DejaVu Sans Mono',consolas,'Courier New',monospace\"><span style=\"font-weight: bold\">[</span>\n",
       "    <span style=\"font-weight: bold\">[</span><span style=\"color: #008000; text-decoration-color: #008000\">'4800'</span>, <span style=\"color: #008000; text-decoration-color: #008000\">'24500'</span>, <span style=\"color: #008000; text-decoration-color: #008000\">'1200000000'</span><span style=\"font-weight: bold\">]</span>,\n",
       "    <span style=\"font-weight: bold\">[</span><span style=\"color: #008000; text-decoration-color: #008000\">'P'</span>, <span style=\"color: #008000; text-decoration-color: #008000\">'3600'</span><span style=\"font-weight: bold\">]</span>,\n",
       "    <span style=\"font-weight: bold\">[</span><span style=\"color: #008000; text-decoration-color: #008000\">'F'</span>, <span style=\"color: #008000; text-decoration-color: #008000\">'0'</span><span style=\"font-weight: bold\">]</span>,\n",
       "    <span style=\"font-weight: bold\">[</span><span style=\"color: #008000; text-decoration-color: #008000\">'100'</span>, <span style=\"color: #008000; text-decoration-color: #008000\">'2000'</span>, <span style=\"color: #008000; text-decoration-color: #008000\">'0'</span><span style=\"font-weight: bold\">]</span>,\n",
       "    <span style=\"font-weight: bold\">[]</span>,\n",
       "    <span style=\"font-weight: bold\">[</span><span style=\"color: #008000; text-decoration-color: #008000\">'228'</span>, <span style=\"color: #008000; text-decoration-color: #008000\">'28000'</span>, <span style=\"color: #008000; text-decoration-color: #008000\">'756'</span><span style=\"font-weight: bold\">]</span>,\n",
       "    <span style=\"font-weight: bold\">[</span><span style=\"color: #008000; text-decoration-color: #008000\">'P'</span>, <span style=\"color: #008000; text-decoration-color: #008000\">'63'</span>, <span style=\"color: #008000; text-decoration-color: #008000\">'100'</span>, <span style=\"color: #008000; text-decoration-color: #008000\">'200'</span><span style=\"font-weight: bold\">]</span>,\n",
       "    <span style=\"font-weight: bold\">[</span><span style=\"color: #008000; text-decoration-color: #008000\">'15'</span>, <span style=\"color: #008000; text-decoration-color: #008000\">'0'</span>, <span style=\"color: #008000; text-decoration-color: #008000\">'0'</span><span style=\"font-weight: bold\">]</span>,\n",
       "    <span style=\"font-weight: bold\">[</span><span style=\"color: #008000; text-decoration-color: #008000\">'35'</span>, <span style=\"color: #008000; text-decoration-color: #008000\">'72'</span>, <span style=\"color: #008000; text-decoration-color: #008000\">'0'</span><span style=\"font-weight: bold\">]</span>,\n",
       "    <span style=\"font-weight: bold\">[]</span>,\n",
       "    <span style=\"font-weight: bold\">[</span><span style=\"color: #008000; text-decoration-color: #008000\">'9000'</span>, <span style=\"color: #008000; text-decoration-color: #008000\">'35000'</span>, <span style=\"color: #008000; text-decoration-color: #008000\">'1000000000'</span><span style=\"font-weight: bold\">]</span>,\n",
       "    <span style=\"font-weight: bold\">[</span><span style=\"color: #008000; text-decoration-color: #008000\">'F'</span>, <span style=\"color: #008000; text-decoration-color: #008000\">'1000'</span><span style=\"font-weight: bold\">]</span>,\n",
       "    <span style=\"font-weight: bold\">[</span><span style=\"color: #008000; text-decoration-color: #008000\">'P'</span>, <span style=\"color: #008000; text-decoration-color: #008000\">'9000'</span><span style=\"font-weight: bold\">]</span>,\n",
       "    <span style=\"font-weight: bold\">[</span><span style=\"color: #008000; text-decoration-color: #008000\">'12'</span>, <span style=\"color: #008000; text-decoration-color: #008000\">'0'</span>, <span style=\"color: #008000; text-decoration-color: #008000\">'0'</span><span style=\"font-weight: bold\">]</span>,\n",
       "    <span style=\"font-weight: bold\">[</span><span style=\"color: #008000; text-decoration-color: #008000\">'24'</span>, <span style=\"color: #008000; text-decoration-color: #008000\">'0'</span>, <span style=\"color: #008000; text-decoration-color: #008000\">'0'</span><span style=\"font-weight: bold\">]</span>\n",
       "<span style=\"font-weight: bold\">]</span>\n",
       "</pre>\n"
      ],
      "text/plain": [
       "\u001b[1m[\u001b[0m\n",
       "    \u001b[1m[\u001b[0m\u001b[32m'4800'\u001b[0m, \u001b[32m'24500'\u001b[0m, \u001b[32m'1200000000'\u001b[0m\u001b[1m]\u001b[0m,\n",
       "    \u001b[1m[\u001b[0m\u001b[32m'P'\u001b[0m, \u001b[32m'3600'\u001b[0m\u001b[1m]\u001b[0m,\n",
       "    \u001b[1m[\u001b[0m\u001b[32m'F'\u001b[0m, \u001b[32m'0'\u001b[0m\u001b[1m]\u001b[0m,\n",
       "    \u001b[1m[\u001b[0m\u001b[32m'100'\u001b[0m, \u001b[32m'2000'\u001b[0m, \u001b[32m'0'\u001b[0m\u001b[1m]\u001b[0m,\n",
       "    \u001b[1m[\u001b[0m\u001b[1m]\u001b[0m,\n",
       "    \u001b[1m[\u001b[0m\u001b[32m'228'\u001b[0m, \u001b[32m'28000'\u001b[0m, \u001b[32m'756'\u001b[0m\u001b[1m]\u001b[0m,\n",
       "    \u001b[1m[\u001b[0m\u001b[32m'P'\u001b[0m, \u001b[32m'63'\u001b[0m, \u001b[32m'100'\u001b[0m, \u001b[32m'200'\u001b[0m\u001b[1m]\u001b[0m,\n",
       "    \u001b[1m[\u001b[0m\u001b[32m'15'\u001b[0m, \u001b[32m'0'\u001b[0m, \u001b[32m'0'\u001b[0m\u001b[1m]\u001b[0m,\n",
       "    \u001b[1m[\u001b[0m\u001b[32m'35'\u001b[0m, \u001b[32m'72'\u001b[0m, \u001b[32m'0'\u001b[0m\u001b[1m]\u001b[0m,\n",
       "    \u001b[1m[\u001b[0m\u001b[1m]\u001b[0m,\n",
       "    \u001b[1m[\u001b[0m\u001b[32m'9000'\u001b[0m, \u001b[32m'35000'\u001b[0m, \u001b[32m'1000000000'\u001b[0m\u001b[1m]\u001b[0m,\n",
       "    \u001b[1m[\u001b[0m\u001b[32m'F'\u001b[0m, \u001b[32m'1000'\u001b[0m\u001b[1m]\u001b[0m,\n",
       "    \u001b[1m[\u001b[0m\u001b[32m'P'\u001b[0m, \u001b[32m'9000'\u001b[0m\u001b[1m]\u001b[0m,\n",
       "    \u001b[1m[\u001b[0m\u001b[32m'12'\u001b[0m, \u001b[32m'0'\u001b[0m, \u001b[32m'0'\u001b[0m\u001b[1m]\u001b[0m,\n",
       "    \u001b[1m[\u001b[0m\u001b[32m'24'\u001b[0m, \u001b[32m'0'\u001b[0m, \u001b[32m'0'\u001b[0m\u001b[1m]\u001b[0m\n",
       "\u001b[1m]\u001b[0m\n"
      ]
     },
     "metadata": {},
     "output_type": "display_data"
    }
   ],
   "source": [
    "lines = []\n",
    "with open(file_name, \"r\") as file:\n",
    "    csv_file = csv.reader(file)\n",
    "    for line in csv_file:\n",
    "        lines.append(line)\n",
    "print(lines)"
   ]
  },
  {
   "cell_type": "markdown",
   "id": "df957a76-98ee-479b-a680-78d34dcbf990",
   "metadata": {},
   "source": [
    "# Part B\n",
    "\n",
    "Using the \"filter\" recipe, write a loop that will convert all of the numbers in your \"beams\" data to integers. Note, trying to convert a string like, `\"F\"` into an integer will result in an error so you will need to use `if`/`elif`/`else` to check if a string can be converted into an `int`. \n",
    "\n",
    "Unfortunately, the Python str methods are not comprehensive enough on their own to cover every kind of number test so you may have to get creative on how you test the string (e.g. may require manipulation). \n",
    "\n",
    "Print the results of your accumulator to the notebook to see if it caught all of the numbers. If\n",
    "\n",
    "You may also need to use the \"double loop\" recipe or you may try using a list comprehension to avoid writing a double loop.\n",
    "\n"
   ]
  },
  {
   "cell_type": "markdown",
   "id": "9c7deeff-c0a0-45fa-86a9-9d3577a8ae53",
   "metadata": {},
   "source": [
    "## Task B response"
   ]
  },
  {
   "cell_type": "markdown",
   "id": "defcee87-1500-41ba-ba6e-ef65bf11c0bf",
   "metadata": {},
   "source": [
    "### Method 1 - Double loop"
   ]
  },
  {
   "cell_type": "code",
   "execution_count": 133,
   "id": "6fe5c87d-9bfe-450b-b61e-186202c59ab6",
   "metadata": {},
   "outputs": [
    {
     "data": {
      "text/html": [
       "<pre style=\"white-space:pre;overflow-x:auto;line-height:normal;font-family:Menlo,'DejaVu Sans Mono',consolas,'Courier New',monospace\"><span style=\"font-weight: bold\">[</span>\n",
       "    <span style=\"font-weight: bold\">[</span><span style=\"color: #008080; text-decoration-color: #008080; font-weight: bold\">4800</span>, <span style=\"color: #008080; text-decoration-color: #008080; font-weight: bold\">24500</span>, <span style=\"color: #008080; text-decoration-color: #008080; font-weight: bold\">1200000000</span><span style=\"font-weight: bold\">]</span>,\n",
       "    <span style=\"font-weight: bold\">[</span><span style=\"color: #008000; text-decoration-color: #008000\">'P'</span>, <span style=\"color: #008080; text-decoration-color: #008080; font-weight: bold\">3600</span><span style=\"font-weight: bold\">]</span>,\n",
       "    <span style=\"font-weight: bold\">[</span><span style=\"color: #008000; text-decoration-color: #008000\">'F'</span>, <span style=\"color: #008080; text-decoration-color: #008080; font-weight: bold\">0</span><span style=\"font-weight: bold\">]</span>,\n",
       "    <span style=\"font-weight: bold\">[</span><span style=\"color: #008080; text-decoration-color: #008080; font-weight: bold\">100</span>, <span style=\"color: #008080; text-decoration-color: #008080; font-weight: bold\">2000</span>, <span style=\"color: #008080; text-decoration-color: #008080; font-weight: bold\">0</span><span style=\"font-weight: bold\">]</span>,\n",
       "    <span style=\"font-weight: bold\">[]</span>,\n",
       "    <span style=\"font-weight: bold\">[</span><span style=\"color: #008080; text-decoration-color: #008080; font-weight: bold\">228</span>, <span style=\"color: #008080; text-decoration-color: #008080; font-weight: bold\">28000</span>, <span style=\"color: #008080; text-decoration-color: #008080; font-weight: bold\">756</span><span style=\"font-weight: bold\">]</span>,\n",
       "    <span style=\"font-weight: bold\">[</span><span style=\"color: #008000; text-decoration-color: #008000\">'P'</span>, <span style=\"color: #008080; text-decoration-color: #008080; font-weight: bold\">63</span>, <span style=\"color: #008080; text-decoration-color: #008080; font-weight: bold\">100</span>, <span style=\"color: #008080; text-decoration-color: #008080; font-weight: bold\">200</span><span style=\"font-weight: bold\">]</span>,\n",
       "    <span style=\"font-weight: bold\">[</span><span style=\"color: #008080; text-decoration-color: #008080; font-weight: bold\">15</span>, <span style=\"color: #008080; text-decoration-color: #008080; font-weight: bold\">0</span>, <span style=\"color: #008080; text-decoration-color: #008080; font-weight: bold\">0</span><span style=\"font-weight: bold\">]</span>,\n",
       "    <span style=\"font-weight: bold\">[</span><span style=\"color: #008080; text-decoration-color: #008080; font-weight: bold\">35</span>, <span style=\"color: #008080; text-decoration-color: #008080; font-weight: bold\">72</span>, <span style=\"color: #008080; text-decoration-color: #008080; font-weight: bold\">0</span><span style=\"font-weight: bold\">]</span>,\n",
       "    <span style=\"font-weight: bold\">[]</span>,\n",
       "    <span style=\"font-weight: bold\">[</span><span style=\"color: #008080; text-decoration-color: #008080; font-weight: bold\">9000</span>, <span style=\"color: #008080; text-decoration-color: #008080; font-weight: bold\">35000</span>, <span style=\"color: #008080; text-decoration-color: #008080; font-weight: bold\">1000000000</span><span style=\"font-weight: bold\">]</span>,\n",
       "    <span style=\"font-weight: bold\">[</span><span style=\"color: #008000; text-decoration-color: #008000\">'F'</span>, <span style=\"color: #008080; text-decoration-color: #008080; font-weight: bold\">1000</span><span style=\"font-weight: bold\">]</span>,\n",
       "    <span style=\"font-weight: bold\">[</span><span style=\"color: #008000; text-decoration-color: #008000\">'P'</span>, <span style=\"color: #008080; text-decoration-color: #008080; font-weight: bold\">9000</span><span style=\"font-weight: bold\">]</span>,\n",
       "    <span style=\"font-weight: bold\">[</span><span style=\"color: #008080; text-decoration-color: #008080; font-weight: bold\">12</span>, <span style=\"color: #008080; text-decoration-color: #008080; font-weight: bold\">0</span>, <span style=\"color: #008080; text-decoration-color: #008080; font-weight: bold\">0</span><span style=\"font-weight: bold\">]</span>,\n",
       "    <span style=\"font-weight: bold\">[</span><span style=\"color: #008080; text-decoration-color: #008080; font-weight: bold\">24</span>, <span style=\"color: #008080; text-decoration-color: #008080; font-weight: bold\">0</span>, <span style=\"color: #008080; text-decoration-color: #008080; font-weight: bold\">0</span><span style=\"font-weight: bold\">]</span>\n",
       "<span style=\"font-weight: bold\">]</span>\n",
       "</pre>\n"
      ],
      "text/plain": [
       "\u001b[1m[\u001b[0m\n",
       "    \u001b[1m[\u001b[0m\u001b[1;36m4800\u001b[0m, \u001b[1;36m24500\u001b[0m, \u001b[1;36m1200000000\u001b[0m\u001b[1m]\u001b[0m,\n",
       "    \u001b[1m[\u001b[0m\u001b[32m'P'\u001b[0m, \u001b[1;36m3600\u001b[0m\u001b[1m]\u001b[0m,\n",
       "    \u001b[1m[\u001b[0m\u001b[32m'F'\u001b[0m, \u001b[1;36m0\u001b[0m\u001b[1m]\u001b[0m,\n",
       "    \u001b[1m[\u001b[0m\u001b[1;36m100\u001b[0m, \u001b[1;36m2000\u001b[0m, \u001b[1;36m0\u001b[0m\u001b[1m]\u001b[0m,\n",
       "    \u001b[1m[\u001b[0m\u001b[1m]\u001b[0m,\n",
       "    \u001b[1m[\u001b[0m\u001b[1;36m228\u001b[0m, \u001b[1;36m28000\u001b[0m, \u001b[1;36m756\u001b[0m\u001b[1m]\u001b[0m,\n",
       "    \u001b[1m[\u001b[0m\u001b[32m'P'\u001b[0m, \u001b[1;36m63\u001b[0m, \u001b[1;36m100\u001b[0m, \u001b[1;36m200\u001b[0m\u001b[1m]\u001b[0m,\n",
       "    \u001b[1m[\u001b[0m\u001b[1;36m15\u001b[0m, \u001b[1;36m0\u001b[0m, \u001b[1;36m0\u001b[0m\u001b[1m]\u001b[0m,\n",
       "    \u001b[1m[\u001b[0m\u001b[1;36m35\u001b[0m, \u001b[1;36m72\u001b[0m, \u001b[1;36m0\u001b[0m\u001b[1m]\u001b[0m,\n",
       "    \u001b[1m[\u001b[0m\u001b[1m]\u001b[0m,\n",
       "    \u001b[1m[\u001b[0m\u001b[1;36m9000\u001b[0m, \u001b[1;36m35000\u001b[0m, \u001b[1;36m1000000000\u001b[0m\u001b[1m]\u001b[0m,\n",
       "    \u001b[1m[\u001b[0m\u001b[32m'F'\u001b[0m, \u001b[1;36m1000\u001b[0m\u001b[1m]\u001b[0m,\n",
       "    \u001b[1m[\u001b[0m\u001b[32m'P'\u001b[0m, \u001b[1;36m9000\u001b[0m\u001b[1m]\u001b[0m,\n",
       "    \u001b[1m[\u001b[0m\u001b[1;36m12\u001b[0m, \u001b[1;36m0\u001b[0m, \u001b[1;36m0\u001b[0m\u001b[1m]\u001b[0m,\n",
       "    \u001b[1m[\u001b[0m\u001b[1;36m24\u001b[0m, \u001b[1;36m0\u001b[0m, \u001b[1;36m0\u001b[0m\u001b[1m]\u001b[0m\n",
       "\u001b[1m]\u001b[0m\n"
      ]
     },
     "metadata": {},
     "output_type": "display_data"
    }
   ],
   "source": [
    "clean_lines = []\n",
    "for line in lines:\n",
    "    clean_line = []\n",
    "    for string in line:\n",
    "        if string.replace(\"-\",\"\").isdigit():\n",
    "            clean_line.append(int(string))\n",
    "        else:\n",
    "            clean_line.append(string)\n",
    "    clean_lines.append(clean_line)\n",
    "print(clean_lines)"
   ]
  },
  {
   "cell_type": "markdown",
   "id": "47ee9f58-7542-42c0-8289-6caddadcfbe6",
   "metadata": {},
   "source": [
    "### Method  2 - List comprehension"
   ]
  },
  {
   "cell_type": "code",
   "execution_count": 134,
   "id": "8703e66f-c4c6-4a3b-bd48-cafa3924f7fc",
   "metadata": {},
   "outputs": [
    {
     "data": {
      "text/html": [
       "<pre style=\"white-space:pre;overflow-x:auto;line-height:normal;font-family:Menlo,'DejaVu Sans Mono',consolas,'Courier New',monospace\"><span style=\"font-weight: bold\">[</span>\n",
       "    <span style=\"font-weight: bold\">[</span><span style=\"color: #008080; text-decoration-color: #008080; font-weight: bold\">4800</span>, <span style=\"color: #008080; text-decoration-color: #008080; font-weight: bold\">24500</span>, <span style=\"color: #008080; text-decoration-color: #008080; font-weight: bold\">1200000000</span><span style=\"font-weight: bold\">]</span>,\n",
       "    <span style=\"font-weight: bold\">[</span><span style=\"color: #008000; text-decoration-color: #008000\">'P'</span>, <span style=\"color: #008080; text-decoration-color: #008080; font-weight: bold\">3600</span><span style=\"font-weight: bold\">]</span>,\n",
       "    <span style=\"font-weight: bold\">[</span><span style=\"color: #008000; text-decoration-color: #008000\">'F'</span>, <span style=\"color: #008080; text-decoration-color: #008080; font-weight: bold\">0</span><span style=\"font-weight: bold\">]</span>,\n",
       "    <span style=\"font-weight: bold\">[</span><span style=\"color: #008080; text-decoration-color: #008080; font-weight: bold\">100</span>, <span style=\"color: #008080; text-decoration-color: #008080; font-weight: bold\">2000</span>, <span style=\"color: #008080; text-decoration-color: #008080; font-weight: bold\">0</span><span style=\"font-weight: bold\">]</span>,\n",
       "    <span style=\"font-weight: bold\">[]</span>,\n",
       "    <span style=\"font-weight: bold\">[</span><span style=\"color: #008080; text-decoration-color: #008080; font-weight: bold\">228</span>, <span style=\"color: #008080; text-decoration-color: #008080; font-weight: bold\">28000</span>, <span style=\"color: #008080; text-decoration-color: #008080; font-weight: bold\">756</span><span style=\"font-weight: bold\">]</span>,\n",
       "    <span style=\"font-weight: bold\">[</span><span style=\"color: #008000; text-decoration-color: #008000\">'P'</span>, <span style=\"color: #008080; text-decoration-color: #008080; font-weight: bold\">63</span>, <span style=\"color: #008080; text-decoration-color: #008080; font-weight: bold\">100</span>, <span style=\"color: #008080; text-decoration-color: #008080; font-weight: bold\">200</span><span style=\"font-weight: bold\">]</span>,\n",
       "    <span style=\"font-weight: bold\">[</span><span style=\"color: #008080; text-decoration-color: #008080; font-weight: bold\">15</span>, <span style=\"color: #008080; text-decoration-color: #008080; font-weight: bold\">0</span>, <span style=\"color: #008080; text-decoration-color: #008080; font-weight: bold\">0</span><span style=\"font-weight: bold\">]</span>,\n",
       "    <span style=\"font-weight: bold\">[</span><span style=\"color: #008080; text-decoration-color: #008080; font-weight: bold\">35</span>, <span style=\"color: #008080; text-decoration-color: #008080; font-weight: bold\">72</span>, <span style=\"color: #008080; text-decoration-color: #008080; font-weight: bold\">0</span><span style=\"font-weight: bold\">]</span>,\n",
       "    <span style=\"font-weight: bold\">[]</span>,\n",
       "    <span style=\"font-weight: bold\">[</span><span style=\"color: #008080; text-decoration-color: #008080; font-weight: bold\">9000</span>, <span style=\"color: #008080; text-decoration-color: #008080; font-weight: bold\">35000</span>, <span style=\"color: #008080; text-decoration-color: #008080; font-weight: bold\">1000000000</span><span style=\"font-weight: bold\">]</span>,\n",
       "    <span style=\"font-weight: bold\">[</span><span style=\"color: #008000; text-decoration-color: #008000\">'F'</span>, <span style=\"color: #008080; text-decoration-color: #008080; font-weight: bold\">1000</span><span style=\"font-weight: bold\">]</span>,\n",
       "    <span style=\"font-weight: bold\">[</span><span style=\"color: #008000; text-decoration-color: #008000\">'P'</span>, <span style=\"color: #008080; text-decoration-color: #008080; font-weight: bold\">9000</span><span style=\"font-weight: bold\">]</span>,\n",
       "    <span style=\"font-weight: bold\">[</span><span style=\"color: #008080; text-decoration-color: #008080; font-weight: bold\">12</span>, <span style=\"color: #008080; text-decoration-color: #008080; font-weight: bold\">0</span>, <span style=\"color: #008080; text-decoration-color: #008080; font-weight: bold\">0</span><span style=\"font-weight: bold\">]</span>,\n",
       "    <span style=\"font-weight: bold\">[</span><span style=\"color: #008080; text-decoration-color: #008080; font-weight: bold\">24</span>, <span style=\"color: #008080; text-decoration-color: #008080; font-weight: bold\">0</span>, <span style=\"color: #008080; text-decoration-color: #008080; font-weight: bold\">0</span><span style=\"font-weight: bold\">]</span>\n",
       "<span style=\"font-weight: bold\">]</span>\n",
       "</pre>\n"
      ],
      "text/plain": [
       "\u001b[1m[\u001b[0m\n",
       "    \u001b[1m[\u001b[0m\u001b[1;36m4800\u001b[0m, \u001b[1;36m24500\u001b[0m, \u001b[1;36m1200000000\u001b[0m\u001b[1m]\u001b[0m,\n",
       "    \u001b[1m[\u001b[0m\u001b[32m'P'\u001b[0m, \u001b[1;36m3600\u001b[0m\u001b[1m]\u001b[0m,\n",
       "    \u001b[1m[\u001b[0m\u001b[32m'F'\u001b[0m, \u001b[1;36m0\u001b[0m\u001b[1m]\u001b[0m,\n",
       "    \u001b[1m[\u001b[0m\u001b[1;36m100\u001b[0m, \u001b[1;36m2000\u001b[0m, \u001b[1;36m0\u001b[0m\u001b[1m]\u001b[0m,\n",
       "    \u001b[1m[\u001b[0m\u001b[1m]\u001b[0m,\n",
       "    \u001b[1m[\u001b[0m\u001b[1;36m228\u001b[0m, \u001b[1;36m28000\u001b[0m, \u001b[1;36m756\u001b[0m\u001b[1m]\u001b[0m,\n",
       "    \u001b[1m[\u001b[0m\u001b[32m'P'\u001b[0m, \u001b[1;36m63\u001b[0m, \u001b[1;36m100\u001b[0m, \u001b[1;36m200\u001b[0m\u001b[1m]\u001b[0m,\n",
       "    \u001b[1m[\u001b[0m\u001b[1;36m15\u001b[0m, \u001b[1;36m0\u001b[0m, \u001b[1;36m0\u001b[0m\u001b[1m]\u001b[0m,\n",
       "    \u001b[1m[\u001b[0m\u001b[1;36m35\u001b[0m, \u001b[1;36m72\u001b[0m, \u001b[1;36m0\u001b[0m\u001b[1m]\u001b[0m,\n",
       "    \u001b[1m[\u001b[0m\u001b[1m]\u001b[0m,\n",
       "    \u001b[1m[\u001b[0m\u001b[1;36m9000\u001b[0m, \u001b[1;36m35000\u001b[0m, \u001b[1;36m1000000000\u001b[0m\u001b[1m]\u001b[0m,\n",
       "    \u001b[1m[\u001b[0m\u001b[32m'F'\u001b[0m, \u001b[1;36m1000\u001b[0m\u001b[1m]\u001b[0m,\n",
       "    \u001b[1m[\u001b[0m\u001b[32m'P'\u001b[0m, \u001b[1;36m9000\u001b[0m\u001b[1m]\u001b[0m,\n",
       "    \u001b[1m[\u001b[0m\u001b[1;36m12\u001b[0m, \u001b[1;36m0\u001b[0m, \u001b[1;36m0\u001b[0m\u001b[1m]\u001b[0m,\n",
       "    \u001b[1m[\u001b[0m\u001b[1;36m24\u001b[0m, \u001b[1;36m0\u001b[0m, \u001b[1;36m0\u001b[0m\u001b[1m]\u001b[0m\n",
       "\u001b[1m]\u001b[0m\n"
      ]
     },
     "metadata": {},
     "output_type": "display_data"
    }
   ],
   "source": [
    "clean_lines = []\n",
    "for line in lines:\n",
    "    clean_lines.append(\n",
    "        [int(item) if item.replace(\"-\",\"\").isdigit() else item for item in line]\n",
    "    )\n",
    "print(clean_lines)"
   ]
  },
  {
   "cell_type": "markdown",
   "id": "90729519-b569-4302-b728-f65b465cfbe8",
   "metadata": {},
   "source": [
    "# Part C\n",
    "\n",
    "Create a new `list` accumulator called `beams`.\n",
    "\n",
    "The goal of this loop is to separate out each chunk of beam data into its own sub-list so that the data from each beam is separate from each other. So, the structure of `beams` will be as follows:\n",
    "\n",
    "```python\n",
    "beams = [\n",
    "    [ # \"Beam 1\" sub-list starts here\n",
    "        [L_b1, E_b1, I_b1],\n",
    "        [P_supports], # If any\n",
    "        [F_supports], # If any\n",
    "        [Load assignments], # If any\n",
    "        [Load assignments]\n",
    "        [Load assignments...]\n",
    "    ], # End of \"Beam 1\"\n",
    "    \n",
    "    [ # \"Beam 2\" sub-list starts here\n",
    "        [L_b2, E_b2, I_b2],\n",
    "        [P_supports], # If any\n",
    "        [F_supports], # If any\n",
    "        [Load assignments], # If any\n",
    "        [Load assignments]\n",
    "        [Load assignments...]\n",
    "    ], # End of \"Beam 2\"\n",
    "]# End of of 'beams'\n",
    "```\n",
    "\n",
    "By reviewing the structure of your data, use a series of `if`/`elif`/`else` to come up with series of tests to \"chunk up\" your beam data into sub-lists. I think that solving problems like these is part of the \"essence\" of programming.\n",
    "\n",
    "The goal is that you will be able to use indexing on your new `beams` variable to access just the beam data for that beam, e.g. `beam[0]` or `beam[2]`.\n",
    "\n",
    "Try printing out `beam[2]` and visually check it against the input file to see if it captures all of your input data"
   ]
  },
  {
   "cell_type": "markdown",
   "id": "77a2c996-4c01-431b-b397-4d679c6553a2",
   "metadata": {},
   "source": [
    "## Task C response"
   ]
  },
  {
   "cell_type": "code",
   "execution_count": 135,
   "id": "1710b557-9a1a-4c8d-8916-b863c410296a",
   "metadata": {},
   "outputs": [],
   "source": [
    "beams = []\n",
    "current_beam = 0\n",
    "for idx, line in enumerate(clean_lines):\n",
    "    if idx == 0:\n",
    "        beams.append([])\n",
    "        beams[current_beam].append(line)\n",
    "    elif not line:\n",
    "        beams.append([])\n",
    "        current_beam += 1\n",
    "    else:\n",
    "        beams[current_beam].append(line)"
   ]
  },
  {
   "cell_type": "markdown",
   "id": "24377da5-5402-4671-8e0e-f21a2133993e",
   "metadata": {},
   "source": [
    "# Part D\n",
    "\n",
    "aka: \"The big one\"\n",
    "\n",
    "With your data now in this format, we are getting to some familiar territory. You are now going to create a script that, when given one of these \"beam sub-lists\", will create a `Beam` object with the correct supports, loads, and boundary conditions. Then it print the reaction loads, plot the shear and bending diagrams, and last plot the deflection.\n",
    "\n",
    "To start, create a variable called `beam_data` and assign it to one of the indexed beams in `beams`, (e.g. `beam_data = beams[1]`)\n",
    "\n",
    "Create an accumulator to hold your reaction symbols (similar to Workbook 03) and set up a loop to loop through all of the lines in `beam_data` assigning the lines to the appropriate parts of the `Beam` like in Workbook 03.\n",
    "\n",
    "Since part of the data format for the beam is \"positional\" (certain data is only within certain positions), you may find the \"enumerate\" looping recipe useful combined with the \"double loop\" recipe combined with various `if`/`elif`/`else` conditions. Note, that this time you have two different kinds of support and boundary conditions (pin and fix).\n",
    "\n",
    "Hop over to your **Workbook 03, Task C** and copy-paste some of your code from there to save yourself some time. Some of it will probably be useful."
   ]
  },
  {
   "cell_type": "markdown",
   "id": "7e095f7e-f970-462f-8894-3811940a250b",
   "metadata": {},
   "source": [
    "## Task D response"
   ]
  },
  {
   "cell_type": "code",
   "execution_count": 136,
   "id": "32b02300-1ee0-4048-be89-daf0a3ceeb05",
   "metadata": {},
   "outputs": [
    {
     "data": {
      "image/png": "[encoded data removed]",
      "text/plain": [
       "<Figure size 432x288 with 1 Axes>"
      ]
     },
     "metadata": {
      "needs_background": "light"
     },
     "output_type": "display_data"
    },
    {
     "data": {
      "text/html": [
       "<pre style=\"white-space:pre;overflow-x:auto;line-height:normal;font-family:Menlo,'DejaVu Sans Mono',consolas,'Courier New',monospace\"><span style=\"font-weight: bold\">{</span>RD_0: <span style=\"color: #008080; text-decoration-color: #008080; font-weight: bold\">-216000</span>, RS_0: <span style=\"color: #008080; text-decoration-color: #008080; font-weight: bold\">270000000</span>, RP_0: <span style=\"color: #008080; text-decoration-color: #008080; font-weight: bold\">-108000</span><span style=\"font-weight: bold\">}</span>\n",
       "</pre>\n"
      ],
      "text/plain": [
       "\u001b[1m{\u001b[0mRD_0: \u001b[1;36m-216000\u001b[0m, RS_0: \u001b[1;36m270000000\u001b[0m, RP_0: \u001b[1;36m-108000\u001b[0m\u001b[1m}\u001b[0m\n"
      ]
     },
     "metadata": {},
     "output_type": "display_data"
    },
    {
     "data": {
      "image/png": "[encoded data removed]",
      "text/plain": [
       "<Figure size 432x288 with 1 Axes>"
      ]
     },
     "metadata": {
      "needs_background": "light"
     },
     "output_type": "display_data"
    },
    {
     "data": {
      "image/png": "[encoded data removed]",
      "text/plain": [
       "<Figure size 432x288 with 1 Axes>"
      ]
     },
     "metadata": {
      "needs_background": "light"
     },
     "output_type": "display_data"
    },
    {
     "data": {
      "image/png": "[encoded data removed]",
      "text/plain": [
       "<Figure size 432x288 with 1 Axes>"
      ]
     },
     "metadata": {
      "needs_background": "light"
     },
     "output_type": "display_data"
    },
    {
     "data": {
      "text/plain": [
       "<sympy.plotting.plot.Plot at 0x23a05a97250>"
      ]
     },
     "execution_count": 136,
     "metadata": {},
     "output_type": "execute_result"
    }
   ],
   "source": [
    "beam_data = beams[beam_id]\n",
    "\n",
    "supports_acc = []\n",
    "for idx, line in enumerate(beam_data):\n",
    "    if idx == 0: # We know the first line always has L, E, I in it\n",
    "        L_E_I = line\n",
    "        beam = Beam(*L_E_I)\n",
    "    elif 'P' in line: # Pinned supports have one reaction: shear\n",
    "        for p_idx, support_loc in enumerate(line[1:]): # Skip the \"P\"\n",
    "            RF = symbols(f\"RP_{p_idx}\")\n",
    "            beam.apply_load(RF, support_loc, -1)\n",
    "            beam.bc_deflection.append((support_loc, 0))\n",
    "            supports_acc.append(RF)\n",
    "    elif 'F' in line: # Fixed supports have two reactions: shear and moment\n",
    "        for f_idx, support_loc in enumerate(line[1:]): # Skip the \"F\"\n",
    "            RD = symbols(f\"RD_{f_idx}\")\n",
    "            RS = symbols(f\"RS_{f_idx}\")\n",
    "            beam.apply_load(RD, support_loc, -1)\n",
    "            beam.apply_load(RS, support_loc, -2)\n",
    "            beam.bc_deflection.append((support_loc, 0))\n",
    "            beam.bc_slope.append((support_loc, 0))\n",
    "            supports_acc.append(RD)\n",
    "            supports_acc.append(RS)\n",
    "    else:  # Everything else will just be a load\n",
    "        beam.apply_load(*line)\n",
    "\n",
    "beam.solve_for_reaction_loads(*supports_acc)\n",
    "bp = beam.draw()\n",
    "bp.show()\n",
    "print(beam.reaction_loads)\n",
    "beam.plot_shear_force()\n",
    "beam.plot_bending_moment()\n",
    "beam.plot_deflection()\n",
    "    "
   ]
  },
  {
   "cell_type": "markdown",
   "id": "96cf1752-40b2-4213-91de-2cca8b9d3249",
   "metadata": {},
   "source": [
    "# Task E\n",
    "\n",
    "1. Change the title of this workbook from **Workbook 04** to **Multi-Beam Reader Script**\n",
    "2. Change the titles of **Task A** to **Part A**, **Task B** to **Part B**, and so on\n",
    "3. Insert a new code cell immediately after the **Multi_Beam Reader Script** cell and in it create the following variables:\n",
    "    1. `file_name` and assign it the string which represents the file name of our beams file\n",
    "    2. `beam_id` and assign it an integer of either `0`, `1`, or `2`; this represents which beam in our script we want to see\n",
    "4. In **Part A**, replace your \"hardcoded\" filename in `open()` with the variable `file_name`\n",
    "5. In **Part D**, replace your \"hardcoded\" beam index in `beam_data` with the variable `beam_id`\n",
    "6. Try changing the `beam_id` at the top of your script and use your \"Alt-r\" keyboard shortcut to run the script from top to bottom see the different beam results each time.\n",
    "7. Try adding an additional set of beam data to the \"beams.txt\" file and re-running the script to run that new data."
   ]
  },
  {
   "cell_type": "markdown",
   "id": "9b73dc97-e606-4cd3-8508-d43e271faab0",
   "metadata": {},
   "source": [
    "# ☄ Submit Workbook 04\n",
    "\n",
    "This week's workbook had you creating a _full script_ for analyzing data. Here is a summary of the tasks you performed:\n",
    "\n",
    "1. Read data from a file\n",
    "2. Parse the data (process the raw data so it becomes meaningful)\n",
    "3. Pass the data into an analysis library for processing and visualization\n",
    "4. \"Soft-code\" all of the values so you can change any of the input data and re-run the script to give you new results\n",
    "5. Set up the script to work kind of like a \"program\" (you change the input at the top and re-run to see new results)\n",
    "\n",
    "This is a big deal! Pat yourself on the back because...YOU. ARE. PROGRAMMING. IN. PYTHON!\n",
    "\n",
    "Now, you have a sense of how you can put code into separate cells to create a script out of a Jupyter notebook. However, do \"real programmers\" just script in Jupyter notebooks? No! The write \"programs\". Well, that's not entirely true: some folks do work exclusively in notebooks these days. \n",
    "\n",
    "However, next week we are going to teach you how to start structuring your code and going from \"scripts\" to \"programs\". We will do this with _functions_ and do it in such a way that you will have a mental framework allowing you to confidently build \"programs\".\n",
    "\n",
    "For now, email your completed workbook to me at `cferster@rjc.ca` with the subject line `Workbook 04 Submission`"
   ]
  },
  {
   "cell_type": "markdown",
   "id": "6b19edbd-fdd3-4467-ad15-e47bb3564cc0",
   "metadata": {},
   "source": [
    "# "
   ]
  }
 ],
 "metadata": {
  "kernelspec": {
   "display_name": "Python 3 (ipykernel)",
   "language": "python",
   "name": "python3"
  },
  "language_info": {
   "codemirror_mode": {
    "name": "ipython",
    "version": 3
   },
   "file_extension": ".py",
   "mimetype": "text/x-python",
   "name": "python",
   "nbconvert_exporter": "python",
   "pygments_lexer": "ipython3",
   "version": "3.9.7"
  }
 },
 "nbformat": 4,
 "nbformat_minor": 5
}
